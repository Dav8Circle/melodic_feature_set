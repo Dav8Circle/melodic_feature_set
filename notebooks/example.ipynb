{
 "cells": [
  {
   "cell_type": "markdown",
   "id": "0fff355a",
   "metadata": {},
   "source": [
    "## Melodic Feature Set"
   ]
  },
  {
   "cell_type": "markdown",
   "id": "33c5ce29",
   "metadata": {},
   "source": [
    "This notebook seeks to illustrate how to use the Melodic Feature Set. The feature set is accessed using the top level function `get_all_features`. This function computes a wide range of features on every melody found in the input directory, returning a single .csv file with all melodies and their features. "
   ]
  },
  {
   "cell_type": "code",
   "execution_count": 1,
   "id": "9aa17495",
   "metadata": {},
   "outputs": [
    {
     "name": "stderr",
     "output_type": "stream",
     "text": [
      "10:57:35 - melodic_feature_set - INFO - Starting feature extraction job...\n",
      "10:57:35 - melodic_feature_set - INFO - Generating corpus statistics from: /src/melodic_feature_set/corpora/Essen_Corpus\n",
      "10:57:35 - melodic_feature_set - INFO - Corpus statistics file will be at: Essen_Corpus_corpus_stats.json\n",
      "10:57:35 - melodic_feature_set - INFO - Corpus statistics file not found. Generating a new one...\n",
      "10:57:35 - melodic_feature_set - INFO - Found 8472 MIDI files\n",
      "Loading MIDI files using 2 cores:  37%|███▋      | 3171/8472 [00:05<00:10, 527.93it/s]10:57:41 - melodic_feature_set - WARNING - Could not import /src/melodic_feature_set/corpora/Essen_Corpus/natmn087.mid: Could not decode key with 8 flats and mode 0\n",
      "Loading MIDI files using 2 cores:  58%|█████▊    | 4883/8472 [00:09<00:06, 563.50it/s]10:57:45 - melodic_feature_set - WARNING - Could not import /src/melodic_feature_set/corpora/Essen_Corpus/natmn173.mid: Could not decode key with 8 flats and mode 0\n",
      "Loading MIDI files using 2 cores: 100%|██████████| 8472/8472 [00:15<00:00, 531.55it/s]\n",
      "10:57:51 - melodic_feature_set - INFO - Processing 8470 valid melodies\n",
      "Computing n-grams using 2 cores: 100%|██████████| 8470/8470 [00:48<00:00, 174.47it/s]\n",
      "10:58:48 - melodic_feature_set - INFO - Corpus statistics saved and loaded successfully.\n",
      "10:58:48 - melodic_feature_set - INFO - Corpus size: 8470 melodies\n",
      "10:58:48 - melodic_feature_set - INFO - N-gram lengths: [1, 6]\n",
      "10:58:48 - melodic_feature_set - INFO - Corpus statistics generated.\n",
      "10:58:48 - melodic_feature_set - INFO - Corpus statistics loaded successfully.\n",
      "10:58:48 - melodic_feature_set - INFO - Processing 10 melodies\n",
      "10:58:48 - melodic_feature_set - INFO - Running IDyOM analysis for 'default_pitch' with corpus: /src/melodic_feature_set/corpora/Essen_Corpus\n",
      "10:58:48 - melodic_feature_set - INFO - Creating temporary MIDI files with detected key signatures for IDyOM processing...\n",
      "10:58:48 - melodic_feature_set - INFO - Processing 10 MIDI files for key signature detection...\n",
      "10:58:48 - melodic_feature_set - INFO - Successfully created 10 files in temporary directory\n",
      "10:58:48 - melodic_feature_set - INFO - Starting IDyOM...\n",
      "10:58:49 - melodic_feature_set - INFO - Found 8472 MIDI files in pretraining directory: /src/melodic_feature_set/corpora/Essen_Corpus\n",
      "10:58:49 - melodic_feature_set - INFO - Found 10 MIDI files in input directory.\n",
      "10:58:49 - melodic_feature_set - INFO - Creating IDyOM experiment with logger_name: IDyOM_default_pitch_Results\n",
      "10:58:49 - melodic_feature_set - INFO - Using temp_history_folder: /tmp/idyom_cayjqsko/\n",
      "10:58:50 - melodic_feature_set - INFO - Copied 8472 .mid files and 0 .midi files (as .mid) to /tmp/idyom_cayjqsko/pretrain_dataset\n",
      "10:58:50 - melodic_feature_set - INFO - Using copied pretraining directory: /tmp/idyom_cayjqsko/pretrain_dataset\n"
     ]
    },
    {
     "name": "stdout",
     "output_type": "stream",
     "text": [
      "** Putting Test dataset files in experiment history folder. **\n"
     ]
    },
    {
     "name": "stderr",
     "output_type": "stream",
     "text": [
      "10:58:50 - melodic_feature_set - INFO - Setting experiment parameters...\n",
      "10:58:50 - melodic_feature_set - INFO - Running IDyOM analysis...\n"
     ]
    },
    {
     "name": "stdout",
     "output_type": "stream",
     "text": [
      "** Putting Pretraining dataset files in experiment history folder. **\n",
      "** running lisp script **\n",
      "To load \"clsql\":\n",
      "  Load 1 ASDF system:\n",
      "    clsql\n",
      "; Loading \"clsql\"\n",
      "\n",
      "To load \"idyom\":\n",
      "  Load 1 ASDF system:\n",
      "    idyom\n",
      "; Loading \"idyom\"\n",
      "................\n",
      "\n",
      "Inserting 10 compositions into database: dataset 66081325105850.\n",
      "| Progress: -----------------------------------------------|\n",
      "============================================================\n",
      "Inserting 8472 compositions into database: dataset 99081325105850.\n",
      "| Progress: -----------------------------------------------|\n",
      "============================================================\n",
      "Written resampling set to /root/idyom/data/resampling/66081325105850-1.resample.\n",
      "Written PPM* model to /root/idyom/data/models/cpint-cpintfref_99081325105850_66081325105850-1:1_melody.ppm.\n"
     ]
    },
    {
     "name": "stderr",
     "output_type": "stream",
     "text": [
      "10:59:50 - melodic_feature_set - INFO - Analysis complete!\n"
     ]
    },
    {
     "name": "stdout",
     "output_type": "stream",
     "text": [
      " \n",
      "** Finished! **\n"
     ]
    },
    {
     "name": "stderr",
     "output_type": "stream",
     "text": [
      "10:59:51 - melodic_feature_set - INFO - IDyOM processing completed successfully! Output: IDyOM_default_pitch_Results.dat\n",
      "10:59:51 - melodic_feature_set - INFO - Cleaning up temporary directory: /tmp/idyom_key_cs8rzq2k\n",
      "10:59:51 - melodic_feature_set - INFO - Starting parallel processing...\n",
      "10:59:51 - melodic_feature_set - INFO - Using 2 CPU cores\n"
     ]
    },
    {
     "name": "stdout",
     "output_type": "stream",
     "text": [
      "⠦ Processing melodies...\r"
     ]
    },
    {
     "name": "stderr",
     "output_type": "stream",
     "text": [
      "10:59:51 - melodic_feature_set - INFO - Processing complete\n",
      "10:59:51 - melodic_feature_set - INFO - Total processing time: 0.88 seconds\n",
      "10:59:51 - melodic_feature_set - INFO - Results written to essen_first_10_features.csv\n",
      "10:59:51 - melodic_feature_set - INFO - Timing Statistics (average milliseconds per melody):\n",
      "10:59:51 - melodic_feature_set - INFO - pitch          :     6.36ms\n",
      "10:59:51 - melodic_feature_set - INFO - interval       :     1.96ms\n",
      "10:59:51 - melodic_feature_set - INFO - contour        :     0.78ms\n",
      "10:59:51 - melodic_feature_set - INFO - duration       :     2.85ms\n",
      "10:59:51 - melodic_feature_set - INFO - tonality       :     3.04ms\n",
      "10:59:51 - melodic_feature_set - INFO - narmour        :     0.07ms\n",
      "10:59:51 - melodic_feature_set - INFO - melodic_movement:     0.45ms\n",
      "10:59:51 - melodic_feature_set - INFO - mtype          :    25.20ms\n",
      "10:59:51 - melodic_feature_set - INFO - corpus         :    29.74ms\n",
      "10:59:51 - melodic_feature_set - INFO - total          :    70.47ms\n"
     ]
    },
    {
     "name": "stdout",
     "output_type": "stream",
     "text": [
      "\n",
      "\n"
     ]
    }
   ],
   "source": [
    "from melodic_feature_set.features import get_all_features\n",
    "# from melodic_feature_set.corpora import essen_corpus\n",
    "\n",
    "# get_all_features(essen_corpus, \"output.csv\") \n",
    "import os\n",
    "essen_dir=\"/workspaces/melodic_feature_set/src/melodic_feature_set/corpora/Essen_Corpus\" \n",
    "files=sorted([f for f in os.listdir(essen_dir) if f.endswith('.mid')])[:10]\n",
    "temp_dir='/tmp/essen_first_10'\n",
    "os.makedirs(temp_dir, exist_ok=True)\n",
    "[os.system(f'cp \\\"{essen_dir}/{f}\\\" \\\"{temp_dir}/{f}\\\"') for f in files]\n",
    "get_all_features(temp_dir, 'essen_first_10_features.csv')"
   ]
  },
  {
   "cell_type": "code",
   "execution_count": null,
   "id": "c74bb5a5",
   "metadata": {},
   "outputs": [],
   "source": [
    "import pandas as pd\n",
    "\n",
    "# Read and display first 5 rows\n",
    "df = pd.read_csv('output.csv')\n",
    "df.head()"
   ]
  },
  {
   "cell_type": "markdown",
   "id": "f4418e8b",
   "metadata": {},
   "source": [
    "The feature set has a few customisable aspects that change the behaviour of some of the feature calculations. There is no requirement to customise this configuration, as sensible values recommended in the literature are supplied as defaults. However, for users seeking more control over the behaviour of FANTASTIC and IDyOM, the `Config` dataclass is provided:"
   ]
  },
  {
   "cell_type": "code",
   "execution_count": null,
   "id": "ce6e8ea9",
   "metadata": {},
   "outputs": [],
   "source": [
    "# Import the Config dataclasses\n",
    "from melodic_feature_set.features import Config, IDyOMConfig, FantasticConfig"
   ]
  },
  {
   "cell_type": "markdown",
   "id": "c6e219b1",
   "metadata": {},
   "source": [
    "Once we import these dataclasses, we can begin to customise our configuration:"
   ]
  },
  {
   "cell_type": "code",
   "execution_count": null,
   "id": "b83d4a97",
   "metadata": {},
   "outputs": [],
   "source": [
    "# Initialise the config object with the relevant parameters\n",
    "config = Config(\n",
    "    corpus=\"../corpora/Essen_Corpus\",\n",
    "    idyom={\"pitch\": IDyOMConfig(\n",
    "        target_viewpoints=[\"cpitch\"],\n",
    "        source_viewpoints=[(\"cpint\", \"cpintfref\")],\n",
    "        ppm_order=1,\n",
    "        models=\":both\"\n",
    "    )},\n",
    "        fantastic=FantasticConfig(\n",
    "        max_ngram_order=2,\n",
    "        phrase_gap=1.5\n",
    "    )\n",
    ")"
   ]
  },
  {
   "cell_type": "markdown",
   "id": "7f1ac66a",
   "metadata": {},
   "source": [
    "The `corpus` parameter operates on different levels. If you wish to use the same corpus for both FANTASTIC and IDyOM, you need only set it in the top level of `Config()`; you then do not need to supply it to `IDyOMConfig` or `FantasticConfig`. \n",
    "\n",
    "If you want to use different corpora for each different toolbox, `IDyOMConfig` and `FantasticConfig` will override whatever is supplied in the top level of `Config`."
   ]
  },
  {
   "cell_type": "code",
   "execution_count": null,
   "id": "340e265e",
   "metadata": {},
   "outputs": [],
   "source": [
    "# Initialise the config object with different corpora\n",
    "different_corpus_config = Config(\n",
    "    corpus=\"../corpora/Essen_Corpus\", # will be overridden\n",
    "    idyom={\"pitch\": IDyOMConfig(\n",
    "        target_viewpoints=[\"cpitch\"],\n",
    "        source_viewpoints=[(\"cpint\", \"cpintfref\")],\n",
    "        ppm_order=1,\n",
    "        models=\":both\",\n",
    "        corpus=\"../corpora/Trad_Flute_Dataset_Midi\"\n",
    "    )},\n",
    "        fantastic=FantasticConfig(\n",
    "        max_ngram_order=2,\n",
    "        phrase_gap=1.5,\n",
    "        corpus=\"../corpora/Essen_Corpus\"\n",
    "    )\n",
    ")"
   ]
  },
  {
   "cell_type": "markdown",
   "id": "a1c75e9b",
   "metadata": {},
   "source": [
    "We can also supply multiple IDyOM configurations, allowing us to compute information content using different 'viewpoints' or corpora in one run of the feature set. This can be achieved like so:"
   ]
  },
  {
   "cell_type": "code",
   "execution_count": null,
   "id": "9fffc3ce-443c-4bfe-96e2-4828b5423a0a",
   "metadata": {},
   "outputs": [],
   "source": [
    "multi_idyom_config = Config(\n",
    "    corpus=\"../corpora/Essen_Corpus\",\n",
    "    idyom={\"pitch\": IDyOMConfig(\n",
    "        target_viewpoints=[\"cpitch\"],\n",
    "        source_viewpoints=[(\"cpint\", \"cpintfref\")],\n",
    "        ppm_order=1,\n",
    "        models=\":both\",\n",
    "        corpus=\"../corpora/Trad_Flute_Dataset_Midi\"\n",
    "    ),\n",
    "    \"rhythm\": IDyOMConfig(\n",
    "        target_viewpoints=[\"onset\"],\n",
    "        source_viewpoints=[\"ioi\"],\n",
    "        ppm_order=1,\n",
    "        models=\":both\",\n",
    "        corpus=\"../corpora/Trad_Flute_Dataset_Midi\"\n",
    "    )},\n",
    "        fantastic=FantasticConfig(\n",
    "        max_ngram_order=2,\n",
    "        phrase_gap=1.5,\n",
    "        corpus=\"../corpora/Essen_Corpus\"\n",
    "    )\n",
    ")"
   ]
  },
  {
   "cell_type": "code",
   "execution_count": null,
   "id": "159eb476",
   "metadata": {},
   "outputs": [],
   "source": [
    "# Now we can get the different IDyOM features along with everything else\n",
    "get_all_features(\"../corpora/Trad_Flute_Dataset_Midi\", \"output2.csv\", config=multi_idyom_config)"
   ]
  },
  {
   "cell_type": "code",
   "execution_count": null,
   "id": "6ce6510c-0b45-4600-a458-96da942b233b",
   "metadata": {},
   "outputs": [],
   "source": [
    "df = pd.read_csv('output2.csv')\n",
    "df.head()"
   ]
  },
  {
   "cell_type": "code",
   "execution_count": null,
   "id": "70958456-dfa7-4d45-92d7-77e380884312",
   "metadata": {},
   "outputs": [],
   "source": []
  }
 ],
 "metadata": {
  "kernelspec": {
   "display_name": "Python 3",
   "language": "python",
   "name": "python3"
  },
  "language_info": {
   "codemirror_mode": {
    "name": "ipython",
    "version": 3
   },
   "file_extension": ".py",
   "mimetype": "text/x-python",
   "name": "python",
   "nbconvert_exporter": "python",
   "pygments_lexer": "ipython3",
   "version": "3.12.11"
  }
 },
 "nbformat": 4,
 "nbformat_minor": 5
}
