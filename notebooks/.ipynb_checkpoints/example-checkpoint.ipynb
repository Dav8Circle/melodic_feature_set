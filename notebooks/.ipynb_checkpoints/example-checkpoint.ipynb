{
 "cells": [
  {
   "cell_type": "markdown",
   "id": "0fff355a",
   "metadata": {},
   "source": [
    "## Melodic Feature Set"
   ]
  },
  {
   "cell_type": "markdown",
   "id": "33c5ce29",
   "metadata": {},
   "source": [
    "This notebook seeks to illustrate how to use the Melodic Feature Set. The feature set is accessed using the top level function `get_all_features`. This function computes a wide range of features on every melody found in the input directory, returning a single .csv file with all melodies and their features. "
   ]
  },
  {
   "cell_type": "code",
   "execution_count": 2,
   "id": "9aa17495",
   "metadata": {},
   "outputs": [
    {
     "name": "stderr",
     "output_type": "stream",
     "text": [
      "10:36:10 - melodic_feature_set - INFO - Starting feature extraction job...\n",
      "10:36:10 - melodic_feature_set - INFO - Generating corpus statistics from: /Users/davidwhyatt/feature_set/corpora/Essen_Corpus\n",
      "10:36:10 - melodic_feature_set - INFO - Corpus statistics file will be at: Essen_Corpus_corpus_stats.json\n",
      "10:36:10 - melodic_feature_set - INFO - Existing corpus statistics file found.\n",
      "10:36:10 - melodic_feature_set - INFO - Corpus statistics loaded successfully.\n",
      "10:36:10 - melodic_feature_set - INFO - Processing 20 melodies\n",
      "10:36:10 - melodic_feature_set - INFO - Running IDyOM analysis for 'default_pitch' with corpus: /Users/davidwhyatt/feature_set/corpora/Essen_Corpus\n",
      "10:36:10 - melodic_feature_set - INFO - Creating temporary MIDI files with detected key signatures for IDyOM processing...\n",
      "10:36:10 - melodic_feature_set - INFO - Processing 20 MIDI files for key signature detection...\n",
      "10:36:10 - melodic_feature_set - INFO - Successfully created 20 files in temporary directory\n",
      "10:36:10 - melodic_feature_set - INFO - Starting IDyOM...\n",
      "10:36:12 - melodic_feature_set - INFO - Found 8472 MIDI files in pretraining directory: /Users/davidwhyatt/feature_set/corpora/Essen_Corpus\n",
      "10:36:12 - melodic_feature_set - INFO - Found 20 MIDI files in input directory.\n",
      "10:36:12 - melodic_feature_set - INFO - Creating IDyOM experiment with logger_name: IDyOM_default_pitch_Results\n",
      "10:36:12 - melodic_feature_set - INFO - Using temp_history_folder: /private/var/folders/kd/t7g208g97fgcw1v9q3__l3b40000gn/T/idyom_7pbdu9p3/\n",
      "10:36:14 - melodic_feature_set - INFO - Copied 8472 .mid files and 0 .midi files (as .mid) to /private/var/folders/kd/t7g208g97fgcw1v9q3__l3b40000gn/T/idyom_7pbdu9p3/pretrain_dataset\n",
      "10:36:14 - melodic_feature_set - INFO - Using copied pretraining directory: /private/var/folders/kd/t7g208g97fgcw1v9q3__l3b40000gn/T/idyom_7pbdu9p3/pretrain_dataset\n"
     ]
    },
    {
     "name": "stdout",
     "output_type": "stream",
     "text": [
      "** Putting Test dataset files in experiment history folder. **\n"
     ]
    },
    {
     "name": "stderr",
     "output_type": "stream",
     "text": [
      "10:36:15 - melodic_feature_set - INFO - Setting experiment parameters...\n",
      "10:36:15 - melodic_feature_set - INFO - Running IDyOM analysis...\n"
     ]
    },
    {
     "name": "stdout",
     "output_type": "stream",
     "text": [
      "** Putting Pretraining dataset files in experiment history folder. **\n",
      "** running lisp script **\n",
      "To load \"clsql\":\n",
      "  Load 1 ASDF system:\n",
      "    clsql\n",
      "; Loading \"clsql\"\n",
      ".\n",
      "To load \"idyom\":\n",
      "  Load 1 ASDF system:\n",
      "    idyom\n",
      "; Loading \"idyom\"\n",
      "..............\n",
      "\n",
      "Inserting 20 compositions into database: dataset 66081125103615.\n",
      "| Progress: -----------------------------------------------|\n",
      "============================================================\n",
      "Inserting 8472 compositions into database: dataset 99081125103615.\n",
      "| Progress: -----------------------------------------------|\n",
      "============================================================\n",
      "Written resampling set to /Users/davidwhyatt/idyom/data/resampling/66081125103615-1.resample.\n",
      "Written PPM* model to /Users/davidwhyatt/idyom/data/models/cpint-cpintfref_99081125103615_66081125103615-1:1_melody.ppm.\n"
     ]
    },
    {
     "name": "stderr",
     "output_type": "stream",
     "text": [
      "10:37:16 - melodic_feature_set - INFO - Analysis complete!\n"
     ]
    },
    {
     "name": "stdout",
     "output_type": "stream",
     "text": [
      " \n",
      "** Finished! **\n"
     ]
    },
    {
     "name": "stderr",
     "output_type": "stream",
     "text": [
      "10:37:17 - melodic_feature_set - INFO - IDyOM processing completed successfully! Output: IDyOM_default_pitch_Results.dat\n",
      "10:37:17 - melodic_feature_set - INFO - Cleaning up temporary directory: /var/folders/kd/t7g208g97fgcw1v9q3__l3b40000gn/T/idyom_key_gbs8xgz2\n",
      "10:37:17 - melodic_feature_set - INFO - Starting parallel processing...\n",
      "10:37:17 - melodic_feature_set - INFO - Using 10 CPU cores\n"
     ]
    },
    {
     "name": "stdout",
     "output_type": "stream",
     "text": [
      "⠙ Processing melodies...\r"
     ]
    },
    {
     "name": "stderr",
     "output_type": "stream",
     "text": [
      "10:37:17 - melodic_feature_set - INFO - Processing complete\n",
      "10:37:17 - melodic_feature_set - INFO - Total processing time: 0.23 seconds\n",
      "10:37:17 - melodic_feature_set - INFO - Results written to output.csv\n",
      "10:37:17 - melodic_feature_set - INFO - Timing Statistics (average milliseconds per melody):\n",
      "10:37:17 - melodic_feature_set - INFO - pitch          :     0.94ms\n",
      "10:37:17 - melodic_feature_set - INFO - interval       :     0.40ms\n",
      "10:37:17 - melodic_feature_set - INFO - contour        :     0.20ms\n",
      "10:37:17 - melodic_feature_set - INFO - duration       :     0.61ms\n",
      "10:37:17 - melodic_feature_set - INFO - tonality       :     0.89ms\n",
      "10:37:17 - melodic_feature_set - INFO - narmour        :     0.01ms\n",
      "10:37:17 - melodic_feature_set - INFO - melodic_movement:     0.09ms\n",
      "10:37:17 - melodic_feature_set - INFO - mtype          :     1.92ms\n",
      "10:37:17 - melodic_feature_set - INFO - corpus         :     2.68ms\n",
      "10:37:17 - melodic_feature_set - INFO - total          :     7.75ms\n"
     ]
    },
    {
     "name": "stdout",
     "output_type": "stream",
     "text": [
      "\n",
      "\n"
     ]
    }
   ],
   "source": [
    "from melodic_feature_set.features import get_all_features\n",
    "\n",
    "get_all_features(\"../corpora/Trad_Flute_Dataset_Midi\", \"output.csv\")"
   ]
  },
  {
   "cell_type": "code",
   "execution_count": null,
   "id": "c74bb5a5",
   "metadata": {},
   "outputs": [],
   "source": [
    "import pandas as pd\n",
    "\n",
    "# Read and display first 5 rows\n",
    "df = pd.read_csv('output.csv')\n",
    "df.head()"
   ]
  },
  {
   "cell_type": "markdown",
   "id": "f4418e8b",
   "metadata": {},
   "source": [
    "The feature set has a few customisable aspects that change the behaviour of some of the feature calculations. There is no requirement to customise this configuration, as sensible values recommended in the literature are supplied as defaults. However, for users seeking more control over the behaviour of FANTASTIC and IDyOM, the `Config` dataclass is provided:"
   ]
  },
  {
   "cell_type": "code",
   "execution_count": null,
   "id": "ce6e8ea9",
   "metadata": {},
   "outputs": [],
   "source": [
    "# Import the Config dataclasses\n",
    "from melodic_feature_set.features import Config, IDyOMConfig, FantasticConfig"
   ]
  },
  {
   "cell_type": "markdown",
   "id": "c6e219b1",
   "metadata": {},
   "source": [
    "Once we import these dataclasses, we can begin to customise our configuration:"
   ]
  },
  {
   "cell_type": "code",
   "execution_count": 10,
   "id": "b83d4a97",
   "metadata": {},
   "outputs": [],
   "source": [
    "# Initialise the config object with the relevant parameters\n",
    "config = Config(\n",
    "    corpus=\"../corpora/Essen_Corpus\",\n",
    "    idyom={\"pitch\": IDyOMConfig(\n",
    "        target_viewpoints=[\"cpitch\"],\n",
    "        source_viewpoints=[(\"cpint\", \"cpintfref\")],\n",
    "        ppm_order=1,\n",
    "        models=\":both\"\n",
    "    )},\n",
    "        fantastic=FantasticConfig(\n",
    "        max_ngram_order=2,\n",
    "        phrase_gap=1.5\n",
    "    )\n",
    ")"
   ]
  },
  {
   "cell_type": "markdown",
   "id": "7f1ac66a",
   "metadata": {},
   "source": [
    "The `corpus` parameter operates on different levels. If you wish to use the same corpus for both FANTASTIC and IDyOM, you need only set it in the top level of `Config()`; you then do not need to supply it to `IDyOMConfig` or `FantasticConfig`. \n",
    "\n",
    "If you want to use different corpora for each different toolbox, `IDyOMConfig` and `FantasticConfig` will override whatever is supplied in the top level of `Config`."
   ]
  },
  {
   "cell_type": "code",
   "execution_count": 11,
   "id": "340e265e",
   "metadata": {},
   "outputs": [],
   "source": [
    "# Initialise the config object with different corpora\n",
    "different_corpus_config = Config(\n",
    "    corpus=\"../corpora/Essen_Corpus\", # will be overridden\n",
    "    idyom={\"pitch\": IDyOMConfig(\n",
    "        target_viewpoints=[\"cpitch\"],\n",
    "        source_viewpoints=[(\"cpint\", \"cpintfref\")],\n",
    "        ppm_order=1,\n",
    "        models=\":both\",\n",
    "        corpus=\"../corpora/Trad_Flute_Dataset_Midi\"\n",
    "    )},\n",
    "        fantastic=FantasticConfig(\n",
    "        max_ngram_order=2,\n",
    "        phrase_gap=1.5,\n",
    "        corpus=\"../corpora/Essen_Corpus\"\n",
    "    )\n",
    ")"
   ]
  },
  {
   "cell_type": "markdown",
   "id": "a1c75e9b",
   "metadata": {},
   "source": [
    "We can also supply multiple IDyOM configurations, allowing us to compute information content using different 'viewpoints' or corpora in one run of the feature set. This can be achieved like so:"
   ]
  },
  {
   "cell_type": "code",
   "execution_count": 12,
   "id": "9fffc3ce-443c-4bfe-96e2-4828b5423a0a",
   "metadata": {},
   "outputs": [],
   "source": [
    "multi_idyom_config = Config(\n",
    "    corpus=\"../corpora/Essen_Corpus\",\n",
    "    idyom={\"pitch\": IDyOMConfig(\n",
    "        target_viewpoints=[\"cpitch\"],\n",
    "        source_viewpoints=[(\"cpint\", \"cpintfref\")],\n",
    "        ppm_order=1,\n",
    "        models=\":both\",\n",
    "        corpus=\"../corpora/Trad_Flute_Dataset_Midi\"\n",
    "    ),\n",
    "    \"rhythm\": IDyOMConfig(\n",
    "        target_viewpoints=[\"onset\"],\n",
    "        source_viewpoints=[\"ioi\"],\n",
    "        ppm_order=1,\n",
    "        models=\":both\",\n",
    "        corpus=\"../corpora/Trad_Flute_Dataset_Midi\"\n",
    "    )},\n",
    "        fantastic=FantasticConfig(\n",
    "        max_ngram_order=2,\n",
    "        phrase_gap=1.5,\n",
    "        corpus=\"../corpora/Essen_Corpus\"\n",
    "    )\n",
    ")"
   ]
  },
  {
   "cell_type": "code",
   "execution_count": 13,
   "id": "159eb476",
   "metadata": {},
   "outputs": [
    {
     "name": "stderr",
     "output_type": "stream",
     "text": [
      "10:40:23 - melodic_feature_set - INFO - Starting feature extraction job...\n",
      "10:40:23 - melodic_feature_set - INFO - Generating corpus statistics from: ../corpora/Essen_Corpus\n",
      "10:40:23 - melodic_feature_set - INFO - Corpus statistics file will be at: Essen_Corpus_corpus_stats.json\n",
      "10:40:23 - melodic_feature_set - INFO - Existing corpus statistics file found.\n",
      "10:40:23 - melodic_feature_set - INFO - Corpus statistics loaded successfully.\n",
      "10:40:23 - melodic_feature_set - INFO - Processing 20 melodies\n",
      "10:40:23 - melodic_feature_set - INFO - Running IDyOM analysis for 'pitch' with corpus: ../corpora/Trad_Flute_Dataset_Midi\n",
      "10:40:23 - melodic_feature_set - INFO - Creating temporary MIDI files with detected key signatures for IDyOM processing...\n",
      "10:40:23 - melodic_feature_set - INFO - Processing 20 MIDI files for key signature detection...\n",
      "10:40:23 - melodic_feature_set - INFO - Successfully created 20 files in temporary directory\n",
      "10:40:23 - melodic_feature_set - INFO - Starting IDyOM...\n",
      "10:40:23 - melodic_feature_set - INFO - Found 20 MIDI files in pretraining directory: ../corpora/Trad_Flute_Dataset_Midi\n",
      "10:40:23 - melodic_feature_set - INFO - Found 20 MIDI files in input directory.\n",
      "10:40:23 - melodic_feature_set - INFO - Creating IDyOM experiment with logger_name: IDyOM_pitch_Results\n",
      "10:40:23 - melodic_feature_set - INFO - Using temp_history_folder: /private/var/folders/kd/t7g208g97fgcw1v9q3__l3b40000gn/T/idyom_fa4j09vb/\n",
      "10:40:23 - melodic_feature_set - INFO - Copied 0 .mid files and 20 .midi files (as .mid) to /private/var/folders/kd/t7g208g97fgcw1v9q3__l3b40000gn/T/idyom_fa4j09vb/pretrain_dataset\n",
      "10:40:23 - melodic_feature_set - INFO - Using copied pretraining directory: /private/var/folders/kd/t7g208g97fgcw1v9q3__l3b40000gn/T/idyom_fa4j09vb/pretrain_dataset\n",
      "10:40:23 - melodic_feature_set - INFO - Setting experiment parameters...\n",
      "10:40:23 - melodic_feature_set - INFO - Running IDyOM analysis...\n"
     ]
    },
    {
     "name": "stdout",
     "output_type": "stream",
     "text": [
      "** Putting Test dataset files in experiment history folder. **\n",
      "** Putting Pretraining dataset files in experiment history folder. **\n",
      "** running lisp script **\n",
      "To load \"clsql\":\n",
      "  Load 1 ASDF system:\n",
      "    clsql\n",
      "; Loading \"clsql\"\n",
      ".\n",
      "To load \"idyom\":\n",
      "  Load 1 ASDF system:\n",
      "    idyom\n",
      "; Loading \"idyom\"\n",
      "..............\n",
      "\n",
      "Inserting 20 compositions into database: dataset 66081125104023.\n",
      "| Progress: -----------------------------------------------|\n",
      "============================================================\n",
      "Inserting 20 compositions into database: dataset 99081125104023.\n",
      "| Progress: -----------------------------------------------|\n",
      "============================================================\n",
      "Written resampling set to /Users/davidwhyatt/idyom/data/resampling/66081125104023-1.resample.\n",
      "Written PPM* model to /Users/davidwhyatt/idyom/data/models/cpint-cpintfref_99081125104023_66081125104023-1:1_melody.ppm.\n"
     ]
    },
    {
     "name": "stderr",
     "output_type": "stream",
     "text": [
      "10:40:45 - melodic_feature_set - INFO - Analysis complete!\n",
      "10:40:45 - melodic_feature_set - INFO - IDyOM processing completed successfully! Output: IDyOM_pitch_Results.dat\n",
      "10:40:45 - melodic_feature_set - INFO - Cleaning up temporary directory: /var/folders/kd/t7g208g97fgcw1v9q3__l3b40000gn/T/idyom_key_3k35dxqi\n",
      "10:40:45 - melodic_feature_set - INFO - Running IDyOM analysis for 'rhythm' with corpus: ../corpora/Trad_Flute_Dataset_Midi\n",
      "10:40:45 - melodic_feature_set - INFO - Creating temporary MIDI files with detected key signatures for IDyOM processing...\n",
      "10:40:45 - melodic_feature_set - INFO - Processing 20 MIDI files for key signature detection...\n",
      "10:40:45 - melodic_feature_set - INFO - Successfully created 20 files in temporary directory\n",
      "10:40:45 - melodic_feature_set - INFO - Starting IDyOM...\n",
      "10:40:45 - melodic_feature_set - INFO - Found 20 MIDI files in pretraining directory: ../corpora/Trad_Flute_Dataset_Midi\n",
      "10:40:45 - melodic_feature_set - INFO - Found 20 MIDI files in input directory.\n",
      "10:40:45 - melodic_feature_set - INFO - Creating IDyOM experiment with logger_name: IDyOM_rhythm_Results\n",
      "10:40:45 - melodic_feature_set - INFO - Using temp_history_folder: /private/var/folders/kd/t7g208g97fgcw1v9q3__l3b40000gn/T/idyom_denc_w4b/\n",
      "10:40:45 - melodic_feature_set - INFO - Copied 0 .mid files and 20 .midi files (as .mid) to /private/var/folders/kd/t7g208g97fgcw1v9q3__l3b40000gn/T/idyom_denc_w4b/pretrain_dataset\n",
      "10:40:45 - melodic_feature_set - INFO - Using copied pretraining directory: /private/var/folders/kd/t7g208g97fgcw1v9q3__l3b40000gn/T/idyom_denc_w4b/pretrain_dataset\n",
      "10:40:45 - melodic_feature_set - INFO - Setting experiment parameters...\n",
      "10:40:45 - melodic_feature_set - INFO - Running IDyOM analysis...\n"
     ]
    },
    {
     "name": "stdout",
     "output_type": "stream",
     "text": [
      " \n",
      "** Finished! **\n",
      "** Putting Test dataset files in experiment history folder. **\n",
      "** Putting Pretraining dataset files in experiment history folder. **\n",
      "** running lisp script **\n",
      "To load \"clsql\":\n",
      "  Load 1 ASDF system:\n",
      "    clsql\n",
      "; Loading \"clsql\"\n",
      ".\n",
      "To load \"idyom\":\n",
      "  Load 1 ASDF system:\n",
      "    idyom\n",
      "; Loading \"idyom\"\n",
      "..............\n",
      "\n",
      "Inserting 20 compositions into database: dataset 66081125104045.\n",
      "| Progress: -----------------------------------------------|\n",
      "============================================================\n",
      "Inserting 20 compositions into database: dataset 99081125104045.\n",
      "| Progress: -----------------------------------------------|\n",
      "============================================================\n",
      "Written resampling set to /Users/davidwhyatt/idyom/data/resampling/66081125104045-1.resample.\n",
      "Written PPM* model to /Users/davidwhyatt/idyom/data/models/ioi_99081125104045_66081125104045-1:1_melody.ppm.\n"
     ]
    },
    {
     "name": "stderr",
     "output_type": "stream",
     "text": [
      "10:41:04 - melodic_feature_set - INFO - Analysis complete!\n",
      "10:41:04 - melodic_feature_set - INFO - IDyOM processing completed successfully! Output: IDyOM_rhythm_Results.dat\n",
      "10:41:04 - melodic_feature_set - INFO - Cleaning up temporary directory: /var/folders/kd/t7g208g97fgcw1v9q3__l3b40000gn/T/idyom_key_di9boiom\n",
      "10:41:04 - melodic_feature_set - INFO - Starting parallel processing...\n",
      "10:41:04 - melodic_feature_set - INFO - Using 10 CPU cores\n"
     ]
    },
    {
     "name": "stdout",
     "output_type": "stream",
     "text": [
      " \n",
      "** Finished! **\n",
      "⠙ Processing melodies...\r"
     ]
    },
    {
     "name": "stderr",
     "output_type": "stream",
     "text": [
      "10:41:05 - melodic_feature_set - INFO - Processing complete\n",
      "10:41:05 - melodic_feature_set - INFO - Total processing time: 0.23 seconds\n",
      "10:41:05 - melodic_feature_set - INFO - Results written to output2.csv\n",
      "10:41:05 - melodic_feature_set - INFO - Timing Statistics (average milliseconds per melody):\n",
      "10:41:05 - melodic_feature_set - INFO - pitch          :     0.90ms\n",
      "10:41:05 - melodic_feature_set - INFO - interval       :     0.40ms\n",
      "10:41:05 - melodic_feature_set - INFO - contour        :     0.19ms\n",
      "10:41:05 - melodic_feature_set - INFO - duration       :     0.61ms\n",
      "10:41:05 - melodic_feature_set - INFO - tonality       :     0.97ms\n",
      "10:41:05 - melodic_feature_set - INFO - narmour        :     0.01ms\n",
      "10:41:05 - melodic_feature_set - INFO - melodic_movement:     0.09ms\n",
      "10:41:05 - melodic_feature_set - INFO - mtype          :     1.76ms\n",
      "10:41:05 - melodic_feature_set - INFO - corpus         :     1.94ms\n",
      "10:41:05 - melodic_feature_set - INFO - total          :     6.86ms\n"
     ]
    },
    {
     "name": "stdout",
     "output_type": "stream",
     "text": [
      "\n",
      "\n"
     ]
    }
   ],
   "source": [
    "# Now we can get the different IDyOM features along with everything else\n",
    "get_all_features(\"../corpora/Trad_Flute_Dataset_Midi\", \"output2.csv\", config=multi_idyom_config)"
   ]
  },
  {
   "cell_type": "code",
   "execution_count": 14,
   "id": "6ce6510c-0b45-4600-a458-96da942b233b",
   "metadata": {},
   "outputs": [
    {
     "data": {
      "text/html": [
       "<div>\n",
       "<style scoped>\n",
       "    .dataframe tbody tr th:only-of-type {\n",
       "        vertical-align: middle;\n",
       "    }\n",
       "\n",
       "    .dataframe tbody tr th {\n",
       "        vertical-align: top;\n",
       "    }\n",
       "\n",
       "    .dataframe thead th {\n",
       "        text-align: right;\n",
       "    }\n",
       "</style>\n",
       "<table border=\"1\" class=\"dataframe\">\n",
       "  <thead>\n",
       "    <tr style=\"text-align: right;\">\n",
       "      <th></th>\n",
       "      <th>melody_num</th>\n",
       "      <th>melody_id</th>\n",
       "      <th>pitch_features.pitch_range</th>\n",
       "      <th>pitch_features.pitch_standard_deviation</th>\n",
       "      <th>pitch_features.pitch_entropy</th>\n",
       "      <th>pitch_features.pcdist1</th>\n",
       "      <th>pitch_features.basic_pitch_histogram</th>\n",
       "      <th>pitch_features.mean_pitch</th>\n",
       "      <th>pitch_features.most_common_pitch</th>\n",
       "      <th>pitch_features.number_of_pitches</th>\n",
       "      <th>...</th>\n",
       "      <th>mtype_features.mean_productivity</th>\n",
       "      <th>corpus_features.tfdf_spearman</th>\n",
       "      <th>corpus_features.tfdf_kendall</th>\n",
       "      <th>corpus_features.mean_log_tfdf</th>\n",
       "      <th>corpus_features.norm_log_dist</th>\n",
       "      <th>corpus_features.max_log_df</th>\n",
       "      <th>corpus_features.min_log_df</th>\n",
       "      <th>corpus_features.mean_log_df</th>\n",
       "      <th>idyom_pitch_features.mean_information_content</th>\n",
       "      <th>idyom_rhythm_features.mean_information_content</th>\n",
       "    </tr>\n",
       "  </thead>\n",
       "  <tbody>\n",
       "    <tr>\n",
       "      <th>0</th>\n",
       "      <td>1</td>\n",
       "      <td>allemande_fifth_fragment.midi</td>\n",
       "      <td>31</td>\n",
       "      <td>6.373207</td>\n",
       "      <td>4.122412</td>\n",
       "      <td>{0.0: 0.13131313131313133, 1.0: 0.020202020202...</td>\n",
       "      <td>{'62.00-63.29': 1, '63.29-64.58': 4, '64.58-65...</td>\n",
       "      <td>76.363636</td>\n",
       "      <td>81</td>\n",
       "      <td>24</td>\n",
       "      <td>...</td>\n",
       "      <td>0.464286</td>\n",
       "      <td>0.467493</td>\n",
       "      <td>0.418718</td>\n",
       "      <td>0.008151</td>\n",
       "      <td>0.077266</td>\n",
       "      <td>8.998755</td>\n",
       "      <td>5.808142</td>\n",
       "      <td>7.554577</td>\n",
       "      <td>4.843572</td>\n",
       "      <td>0.139864</td>\n",
       "    </tr>\n",
       "    <tr>\n",
       "      <th>1</th>\n",
       "      <td>2</td>\n",
       "      <td>allemande_first_fragment.midi</td>\n",
       "      <td>26</td>\n",
       "      <td>5.538038</td>\n",
       "      <td>3.896842</td>\n",
       "      <td>{0.0: 0.1640625, 2.0: 0.1171875, 4.0: 0.179687...</td>\n",
       "      <td>{'62.00-63.24': 1, '63.24-64.48': 4, '64.48-65...</td>\n",
       "      <td>74.632812</td>\n",
       "      <td>76</td>\n",
       "      <td>21</td>\n",
       "      <td>...</td>\n",
       "      <td>0.406780</td>\n",
       "      <td>0.778952</td>\n",
       "      <td>0.584685</td>\n",
       "      <td>0.010012</td>\n",
       "      <td>0.077126</td>\n",
       "      <td>8.998755</td>\n",
       "      <td>2.772589</td>\n",
       "      <td>7.334746</td>\n",
       "      <td>4.204570</td>\n",
       "      <td>0.113777</td>\n",
       "    </tr>\n",
       "    <tr>\n",
       "      <th>2</th>\n",
       "      <td>3</td>\n",
       "      <td>allemande_fourth_fragment.midi</td>\n",
       "      <td>21</td>\n",
       "      <td>4.814213</td>\n",
       "      <td>3.549268</td>\n",
       "      <td>{0.0: 0.10416666666666666, 1.0: 0.020833333333...</td>\n",
       "      <td>{'62.00-63.40': 4, '63.40-64.80': 1, '64.80-66...</td>\n",
       "      <td>73.895833</td>\n",
       "      <td>74</td>\n",
       "      <td>15</td>\n",
       "      <td>...</td>\n",
       "      <td>0.054054</td>\n",
       "      <td>0.610884</td>\n",
       "      <td>0.422577</td>\n",
       "      <td>0.009245</td>\n",
       "      <td>0.103267</td>\n",
       "      <td>8.998755</td>\n",
       "      <td>5.808142</td>\n",
       "      <td>7.937652</td>\n",
       "      <td>3.840379</td>\n",
       "      <td>0.134007</td>\n",
       "    </tr>\n",
       "    <tr>\n",
       "      <th>3</th>\n",
       "      <td>4</td>\n",
       "      <td>allemande_second_fragment.midi</td>\n",
       "      <td>21</td>\n",
       "      <td>4.905440</td>\n",
       "      <td>3.883993</td>\n",
       "      <td>{0.0: 0.08547008547008547, 1.0: 0.008547008547...</td>\n",
       "      <td>{'63.00-64.11': 2, '64.11-65.21': 0, '65.21-66...</td>\n",
       "      <td>75.067961</td>\n",
       "      <td>76</td>\n",
       "      <td>19</td>\n",
       "      <td>...</td>\n",
       "      <td>0.567164</td>\n",
       "      <td>0.091308</td>\n",
       "      <td>0.064223</td>\n",
       "      <td>0.009246</td>\n",
       "      <td>0.056269</td>\n",
       "      <td>8.998755</td>\n",
       "      <td>2.772589</td>\n",
       "      <td>7.663928</td>\n",
       "      <td>4.830534</td>\n",
       "      <td>0.353821</td>\n",
       "    </tr>\n",
       "    <tr>\n",
       "      <th>4</th>\n",
       "      <td>5</td>\n",
       "      <td>allemande_third_fragment.midi</td>\n",
       "      <td>20</td>\n",
       "      <td>4.728223</td>\n",
       "      <td>3.842208</td>\n",
       "      <td>{0.0: 0.07500000000000001, 1.0: 0.025, 2.0: 0....</td>\n",
       "      <td>{'63.00-64.00': 2, '64.00-65.00': 2, '65.00-66...</td>\n",
       "      <td>72.762500</td>\n",
       "      <td>76</td>\n",
       "      <td>20</td>\n",
       "      <td>...</td>\n",
       "      <td>0.304348</td>\n",
       "      <td>0.763269</td>\n",
       "      <td>0.585323</td>\n",
       "      <td>0.009778</td>\n",
       "      <td>0.084140</td>\n",
       "      <td>8.998755</td>\n",
       "      <td>5.808142</td>\n",
       "      <td>7.749487</td>\n",
       "      <td>4.301585</td>\n",
       "      <td>0.146339</td>\n",
       "    </tr>\n",
       "  </tbody>\n",
       "</table>\n",
       "<p>5 rows × 95 columns</p>\n",
       "</div>"
      ],
      "text/plain": [
       "   melody_num                       melody_id  pitch_features.pitch_range  \\\n",
       "0           1   allemande_fifth_fragment.midi                          31   \n",
       "1           2   allemande_first_fragment.midi                          26   \n",
       "2           3  allemande_fourth_fragment.midi                          21   \n",
       "3           4  allemande_second_fragment.midi                          21   \n",
       "4           5   allemande_third_fragment.midi                          20   \n",
       "\n",
       "   pitch_features.pitch_standard_deviation  pitch_features.pitch_entropy  \\\n",
       "0                                 6.373207                      4.122412   \n",
       "1                                 5.538038                      3.896842   \n",
       "2                                 4.814213                      3.549268   \n",
       "3                                 4.905440                      3.883993   \n",
       "4                                 4.728223                      3.842208   \n",
       "\n",
       "                              pitch_features.pcdist1  \\\n",
       "0  {0.0: 0.13131313131313133, 1.0: 0.020202020202...   \n",
       "1  {0.0: 0.1640625, 2.0: 0.1171875, 4.0: 0.179687...   \n",
       "2  {0.0: 0.10416666666666666, 1.0: 0.020833333333...   \n",
       "3  {0.0: 0.08547008547008547, 1.0: 0.008547008547...   \n",
       "4  {0.0: 0.07500000000000001, 1.0: 0.025, 2.0: 0....   \n",
       "\n",
       "                pitch_features.basic_pitch_histogram  \\\n",
       "0  {'62.00-63.29': 1, '63.29-64.58': 4, '64.58-65...   \n",
       "1  {'62.00-63.24': 1, '63.24-64.48': 4, '64.48-65...   \n",
       "2  {'62.00-63.40': 4, '63.40-64.80': 1, '64.80-66...   \n",
       "3  {'63.00-64.11': 2, '64.11-65.21': 0, '65.21-66...   \n",
       "4  {'63.00-64.00': 2, '64.00-65.00': 2, '65.00-66...   \n",
       "\n",
       "   pitch_features.mean_pitch  pitch_features.most_common_pitch  \\\n",
       "0                  76.363636                                81   \n",
       "1                  74.632812                                76   \n",
       "2                  73.895833                                74   \n",
       "3                  75.067961                                76   \n",
       "4                  72.762500                                76   \n",
       "\n",
       "   pitch_features.number_of_pitches  ...  mtype_features.mean_productivity  \\\n",
       "0                                24  ...                          0.464286   \n",
       "1                                21  ...                          0.406780   \n",
       "2                                15  ...                          0.054054   \n",
       "3                                19  ...                          0.567164   \n",
       "4                                20  ...                          0.304348   \n",
       "\n",
       "   corpus_features.tfdf_spearman corpus_features.tfdf_kendall  \\\n",
       "0                       0.467493                     0.418718   \n",
       "1                       0.778952                     0.584685   \n",
       "2                       0.610884                     0.422577   \n",
       "3                       0.091308                     0.064223   \n",
       "4                       0.763269                     0.585323   \n",
       "\n",
       "   corpus_features.mean_log_tfdf  corpus_features.norm_log_dist  \\\n",
       "0                       0.008151                       0.077266   \n",
       "1                       0.010012                       0.077126   \n",
       "2                       0.009245                       0.103267   \n",
       "3                       0.009246                       0.056269   \n",
       "4                       0.009778                       0.084140   \n",
       "\n",
       "   corpus_features.max_log_df corpus_features.min_log_df  \\\n",
       "0                    8.998755                   5.808142   \n",
       "1                    8.998755                   2.772589   \n",
       "2                    8.998755                   5.808142   \n",
       "3                    8.998755                   2.772589   \n",
       "4                    8.998755                   5.808142   \n",
       "\n",
       "   corpus_features.mean_log_df  idyom_pitch_features.mean_information_content  \\\n",
       "0                     7.554577                                       4.843572   \n",
       "1                     7.334746                                       4.204570   \n",
       "2                     7.937652                                       3.840379   \n",
       "3                     7.663928                                       4.830534   \n",
       "4                     7.749487                                       4.301585   \n",
       "\n",
       "   idyom_rhythm_features.mean_information_content  \n",
       "0                                        0.139864  \n",
       "1                                        0.113777  \n",
       "2                                        0.134007  \n",
       "3                                        0.353821  \n",
       "4                                        0.146339  \n",
       "\n",
       "[5 rows x 95 columns]"
      ]
     },
     "execution_count": 14,
     "metadata": {},
     "output_type": "execute_result"
    }
   ],
   "source": [
    "df = pd.read_csv('output2.csv')\n",
    "df.head()"
   ]
  },
  {
   "cell_type": "code",
   "execution_count": null,
   "id": "70958456-dfa7-4d45-92d7-77e380884312",
   "metadata": {},
   "outputs": [],
   "source": []
  }
 ],
 "metadata": {
  "kernelspec": {
   "display_name": "venv",
   "language": "python",
   "name": "venv"
  },
  "language_info": {
   "codemirror_mode": {
    "name": "ipython",
    "version": 3
   },
   "file_extension": ".py",
   "mimetype": "text/x-python",
   "name": "python",
   "nbconvert_exporter": "python",
   "pygments_lexer": "ipython3",
   "version": "3.13.5"
  }
 },
 "nbformat": 4,
 "nbformat_minor": 5
}
